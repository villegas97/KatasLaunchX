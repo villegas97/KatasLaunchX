{
 "cells": [
  {
   "cell_type": "markdown",
   "metadata": {},
   "source": [
    "## Ejercicio1 - Utilizar operadores aritméticos"
   ]
  },
  {
   "cell_type": "code",
   "execution_count": null,
   "metadata": {},
   "outputs": [],
   "source": [
    "tierra = 149597870\n",
    "jupiter = 778547200\n",
    "\n",
    "km = jupiter - tierra\n",
    "print(km)\n",
    "\n",
    "millas = km * 0.621371\n",
    "print(millas)\n",
    "\n"
   ]
  },
  {
   "cell_type": "markdown",
   "metadata": {},
   "source": [
    "## Ejercicio 2: convierte cadenas en números y usa valores absolutos"
   ]
  },
  {
   "cell_type": "code",
   "execution_count": null,
   "metadata": {},
   "outputs": [],
   "source": [
    "d1 = input(\"¿Cuál es la distancia del primer planeta?\")\n",
    "d2 = input(\"¿Cuál es la distancia del segundo planeta?\")\n",
    "\n",
    "distancia = int(d1) - int(d2)\n",
    "print(str(abs(distancia)) + str(\" kilometros\"))\n",
    "\n",
    "millas = distancia * 0.621\n",
    "print(str(abs(millas)) + str(\" millas\"))\n"
   ]
  }
 ],
 "metadata": {
  "interpreter": {
   "hash": "31a86e76aca6108dfd75ba21dd456b861b3fb5ad76b3f0c6898348c3c15d3c84"
  },
  "kernelspec": {
   "display_name": "Python 3.9.7 64-bit",
   "language": "python",
   "name": "python3"
  },
  "language_info": {
   "codemirror_mode": {
    "name": "ipython",
    "version": 3
   },
   "file_extension": ".py",
   "mimetype": "text/x-python",
   "name": "python",
   "nbconvert_exporter": "python",
   "pygments_lexer": "ipython3",
   "version": "3.9.7"
  },
  "orig_nbformat": 4
 },
 "nbformat": 4,
 "nbformat_minor": 2
}
