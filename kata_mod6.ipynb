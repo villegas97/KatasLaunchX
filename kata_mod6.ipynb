{
 "cells": [
  {
   "cell_type": "markdown",
   "metadata": {},
   "source": [
    "## Ejercicio1: Crear y usar listas de Python"
   ]
  },
  {
   "cell_type": "code",
   "execution_count": null,
   "metadata": {},
   "outputs": [],
   "source": [
    "planets = [\"Mercurio\", \"Venus\", \"Tierra\", \"Marte\", \"Júpiter\", \"Saturno\", \"Urano\"]\n",
    "print(len(planets))\n",
    "planets.append(\"Pluton\")\n",
    "print(len(planets))\n",
    "print(planets[-1])"
   ]
  },
  {
   "cell_type": "markdown",
   "metadata": {},
   "source": [
    "## Ejercicio 2: Trabajando con datos de una lista\n"
   ]
  },
  {
   "cell_type": "code",
   "execution_count": null,
   "metadata": {},
   "outputs": [],
   "source": [
    "planets = ['Mercury', 'Venus', 'Earth', 'Mars', 'Jupiter', 'Saturn', 'Neptune']\n",
    "planeta = input(\"Ingrese el nombre de un planeta con la primer letra mayúscula\")\n",
    "print('Indice del planeta ingresado:')\n",
    "print(planets.index(planeta))\n",
    "print('Los planetas más cercanos al sol son:')\n",
    "print(planets[0:planets.index(planeta)])\n",
    "print('Los planetas más alejados del sol son:')\n",
    "print(planets[planets.index(planeta)+1:])"
   ]
  }
 ],
 "metadata": {
  "interpreter": {
   "hash": "31a86e76aca6108dfd75ba21dd456b861b3fb5ad76b3f0c6898348c3c15d3c84"
  },
  "kernelspec": {
   "display_name": "Python 3.9.7 64-bit",
   "language": "python",
   "name": "python3"
  },
  "language_info": {
   "codemirror_mode": {
    "name": "ipython",
    "version": 3
   },
   "file_extension": ".py",
   "mimetype": "text/x-python",
   "name": "python",
   "nbconvert_exporter": "python",
   "pygments_lexer": "ipython3",
   "version": "3.9.7"
  },
  "orig_nbformat": 4
 },
 "nbformat": 4,
 "nbformat_minor": 2
}
