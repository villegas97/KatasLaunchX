{
 "cells": [
  {
   "cell_type": "markdown",
   "metadata": {},
   "source": [
    "\n",
    "## Ejercicio: Uso de funciones en Python\n",
    "## Ejercicio 1: Trabajar con argumentos en funciones"
   ]
  },
  {
   "cell_type": "code",
   "execution_count": null,
   "metadata": {},
   "outputs": [],
   "source": [
    "def tanques(t1,t2,t3):\n",
    "    total = (t1 + t2 + t3)/3\n",
    "    return f\"\"\"Informe:\n",
    "    Promedio: {total}\n",
    "    Tanque 1: {t1}\n",
    "    Tanque 2: {t2}\n",
    "    Tanque 3: {t3}\"\"\"\n",
    "\n",
    "print(tanques(80, 70, 85))\n",
    "\n",
    "def promedio(t1, t2, t3):\n",
    "    total = t1 + t2 + t3\n",
    "    resultado = total / 3\n",
    "    return resultado\n",
    "\n",
    "# promedio(80, 85, 81)\n",
    "\n",
    "def reporte(t1,t2,t3):\n",
    "    total = (t1 + t2 + t3)/3\n",
    "    return f\"\"\"Informe:\n",
    "    Promedio: {promedio(t1, t2, t3)}\n",
    "    Tanque 1: {t1}\n",
    "    Tanque 2: {t2}\n",
    "    Tanque 3: {t3}\"\"\"\n",
    "print(reporte(10, 20, 30))"
   ]
  },
  {
   "cell_type": "markdown",
   "metadata": {},
   "source": [
    "## Ejercicio 2: Trabajo con argumentos de palabra clave\n",
    "## Ejercicio : Trabajar con argumentos de palabras clave en funciones"
   ]
  },
  {
   "cell_type": "code",
   "execution_count": null,
   "metadata": {},
   "outputs": [],
   "source": [
    "def mision_reporte(hora_pre, tiempo_vuelo, destino, tanque_ext, tanque_int):\n",
    "    return f\"\"\"\n",
    "    Mission con destino a {destino}\n",
    "    Tiempo de vuelo: {hora_pre + tiempo_vuelo} minutos\n",
    "    Combustible restante: {tanque_ext + tanque_int} galones\n",
    "    \"\"\"\n",
    "\n",
    "print(mision_reporte(14, 51, \"Luna\", 200000, 300000))\n",
    "\n",
    "def mision_reporte2(destino, *minutos, **reserva):\n",
    "    return f\"\"\"\n",
    "    Mision con destino a {destino}\n",
    "    Tiempo de vuelo: {sum(minutos)} minutes\n",
    "    Combustible restante: {sum(reserva.values())}\n",
    "    \"\"\"\n",
    "\n",
    "print(mision_reporte2(\"Luna\", 10, 15, 51, principal=300000, externo=200000))\n",
    "\n",
    "def mission_report(destino, *minutos, **reserva):\n",
    "    reporte_principal = f\"\"\"\n",
    "    Mision con destino a {destino}\n",
    "    Tiempo de vuelo: {sum(minutos)} minutes\n",
    "    Combustible restante: {sum(reserva.values())}\n",
    "    \"\"\"\n",
    "    for tanque, galones in reserva.items():\n",
    "        reporte_principal += f\"{tanque} tanque --> {galones} galones restantes\\n\"\n",
    "    return reporte_principal\n",
    "\n",
    "print(mission_report(\"Luna\", 8, 11, 55, main=300000, external=200000))"
   ]
  }
 ],
 "metadata": {
  "interpreter": {
   "hash": "31a86e76aca6108dfd75ba21dd456b861b3fb5ad76b3f0c6898348c3c15d3c84"
  },
  "kernelspec": {
   "display_name": "Python 3.9.7 64-bit",
   "language": "python",
   "name": "python3"
  },
  "language_info": {
   "codemirror_mode": {
    "name": "ipython",
    "version": 3
   },
   "file_extension": ".py",
   "mimetype": "text/x-python",
   "name": "python",
   "nbconvert_exporter": "python",
   "pygments_lexer": "ipython3",
   "version": "3.9.7"
  },
  "orig_nbformat": 4
 },
 "nbformat": 4,
 "nbformat_minor": 2
}
