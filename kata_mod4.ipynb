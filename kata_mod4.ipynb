{
 "cells": [
  {
   "cell_type": "markdown",
   "metadata": {},
   "source": [
    "## Ejercicio 1: Transformar cadenas\n",
    "## Imprime datos sobre la luna que estén relacionados con las palabras clave"
   ]
  },
  {
   "cell_type": "code",
   "execution_count": null,
   "metadata": {},
   "outputs": [],
   "source": [
    "text = \"\"\"Interesting facts about the Moon. The Moon is Earth's only satellite. There are several interesting facts about the Moon and how it affects life here on Earth. \n",
    "On average, the Moon moves 4cm away from the Earth every year. This yearly drift is not significant enough to cause immediate effects on Earth. The highes daylight temperature of the Moon is 127 C.\"\"\"\n",
    "text = text.lower()\n",
    "text = text.split('.')\n",
    "\n",
    "palabras = ['average', 'temperature', 'distance']\n",
    "\n",
    "for dato in text:\n",
    "    for palabra in palabras:\n",
    "        if palabra in dato:\n",
    "            print(dato)\n",
    "            \n",
    "                     "
   ]
  },
  {
   "cell_type": "markdown",
   "metadata": {},
   "source": [
    "## Cambia C a Celsius"
   ]
  },
  {
   "cell_type": "code",
   "execution_count": null,
   "metadata": {},
   "outputs": [],
   "source": [
    "text = \"\"\"Interesting facts about the Moon. The Moon is Earth's only satellite. There are several interesting facts about the Moon and how it affects life here on Earth. \n",
    "On average, the Moon moves 4cm away from the Earth every year. This yearly drift is not significant enough to cause immediate effects on Earth. The highes daylight temperature of the Moon is 127 C.\"\"\"\n",
    "text = text.lower()\n",
    "text = text.split('.')\n",
    "\n",
    "palabras = ['average', 'temperature', 'distance']\n",
    "\n",
    "for dato in text:\n",
    "    for palabra in palabras:\n",
    "        if palabra in dato:\n",
    "            print(dato.replace('c', 'Celsius'))\n",
    "            \n",
    "            "
   ]
  },
  {
   "cell_type": "markdown",
   "metadata": {},
   "source": [
    "## Ejercicio 2: Formateando cadenas"
   ]
  },
  {
   "cell_type": "code",
   "execution_count": null,
   "metadata": {},
   "outputs": [],
   "source": [
    "name = \"Moon\"\n",
    "gravity = 0.00162 # in kms\n",
    "planet = \"Earth\"\n",
    "\n",
    "titulo = f'Gravity facts about {planet}'.title()\n",
    "plantilla = f\"\"\"---------------------------\n",
    "Planet Name: {name}\n",
    "Gravity on {planet}: {gravity * 1000} m/s2\"\"\"\n",
    "union = f\"\"\"{titulo.title()}\n",
    "{plantilla}\"\"\"\n",
    "print(union)\n",
    "print(\"\\n\")\n",
    "\n",
    "planet = 'Marte '\n",
    "gravity  = 0.00143\n",
    "name = 'Ganímedes'\n",
    "nueva_plantilla = \"\"\"Gravity Facts About {planet}.\n",
    "----------------------------------\n",
    "Planet Name: {name}\n",
    "Gravity on {planet}: {gravity} m/s2\"\"\".format(planet = planet, name = name, gravity = gravity * 1000)\n",
    "print(nueva_plantilla)"
   ]
  }
 ],
 "metadata": {
  "interpreter": {
   "hash": "31a86e76aca6108dfd75ba21dd456b861b3fb5ad76b3f0c6898348c3c15d3c84"
  },
  "kernelspec": {
   "display_name": "Python 3.9.7 64-bit",
   "language": "python",
   "name": "python3"
  },
  "language_info": {
   "codemirror_mode": {
    "name": "ipython",
    "version": 3
   },
   "file_extension": ".py",
   "mimetype": "text/x-python",
   "name": "python",
   "nbconvert_exporter": "python",
   "pygments_lexer": "ipython3",
   "version": "3.9.7"
  },
  "orig_nbformat": 4
 },
 "nbformat": 4,
 "nbformat_minor": 2
}
