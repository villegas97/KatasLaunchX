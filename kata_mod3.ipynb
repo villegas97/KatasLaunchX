{
 "cells": [
  {
   "cell_type": "code",
   "execution_count": null,
   "metadata": {},
   "outputs": [],
   "source": [
    "velocidad = 49\n",
    "if velocidad > 25:\n",
    "    print('Advertencia, asteroide acercandose a la tierra')\n",
    "else: \n",
    "    print('Todo bien')"
   ]
  },
  {
   "cell_type": "code",
   "execution_count": null,
   "metadata": {},
   "outputs": [],
   "source": [
    "velocidad = 19\n",
    "if velocidad > 20:\n",
    "    print('Hay un rayo de luz en el cielo')\n",
    "elif velocidad == 20:\n",
    "    print('Hay un rayo de luz en el cielo')\n",
    "else:\n",
    "    print('Cielo despejado')\n"
   ]
  },
  {
   "cell_type": "code",
   "execution_count": null,
   "metadata": {},
   "outputs": [],
   "source": [
    "velocidad = 15\n",
    "tamano = 30\n",
    "if velocidad > 25 and tamano > 25:\n",
    "    print('Advertencia, asteroide veloz y grande acercandose a la tierra')\n",
    "elif velocidad >= 20:\n",
    "    print('Hay un rayo de luz en el cielo')\n",
    "elif tamano < 25:\n",
    "    print('Ningun asteroide de tamaño considerable al acecho')\n",
    "elif tamano > 25:\n",
    "    print(\"Asteroide grande acercandose a baja velocidad\")\n",
    "else:\n",
    "    print('Cielo despejado')"
   ]
  }
 ],
 "metadata": {
  "interpreter": {
   "hash": "31a86e76aca6108dfd75ba21dd456b861b3fb5ad76b3f0c6898348c3c15d3c84"
  },
  "kernelspec": {
   "display_name": "Python 3.9.7 64-bit",
   "language": "python",
   "name": "python3"
  },
  "language_info": {
   "codemirror_mode": {
    "name": "ipython",
    "version": 3
   },
   "file_extension": ".py",
   "mimetype": "text/x-python",
   "name": "python",
   "nbconvert_exporter": "python",
   "pygments_lexer": "ipython3",
   "version": "3.9.7"
  },
  "orig_nbformat": 4
 },
 "nbformat": 4,
 "nbformat_minor": 2
}
